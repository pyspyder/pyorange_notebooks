{
 "cells": [
  {
   "cell_type": "markdown",
   "id": "24bae13c",
   "metadata": {},
   "source": [
    "# Importing jewellery data"
   ]
  },
  {
   "cell_type": "code",
   "execution_count": 1,
   "id": "3cc1fbd7",
   "metadata": {},
   "outputs": [
    {
     "data": {
      "text/html": [
       "<div>\n",
       "<style scoped>\n",
       "    .dataframe tbody tr th:only-of-type {\n",
       "        vertical-align: middle;\n",
       "    }\n",
       "\n",
       "    .dataframe tbody tr th {\n",
       "        vertical-align: top;\n",
       "    }\n",
       "\n",
       "    .dataframe thead th {\n",
       "        text-align: right;\n",
       "    }\n",
       "</style>\n",
       "<table border=\"1\" class=\"dataframe\">\n",
       "  <thead>\n",
       "    <tr style=\"text-align: right;\">\n",
       "      <th></th>\n",
       "      <th>Age</th>\n",
       "      <th>Income</th>\n",
       "      <th>SpendingScore</th>\n",
       "      <th>Savings</th>\n",
       "    </tr>\n",
       "  </thead>\n",
       "  <tbody>\n",
       "    <tr>\n",
       "      <th>0</th>\n",
       "      <td>58</td>\n",
       "      <td>77769</td>\n",
       "      <td>0.791329</td>\n",
       "      <td>6559.829923</td>\n",
       "    </tr>\n",
       "    <tr>\n",
       "      <th>1</th>\n",
       "      <td>59</td>\n",
       "      <td>81799</td>\n",
       "      <td>0.791082</td>\n",
       "      <td>5417.661426</td>\n",
       "    </tr>\n",
       "    <tr>\n",
       "      <th>2</th>\n",
       "      <td>62</td>\n",
       "      <td>74751</td>\n",
       "      <td>0.702657</td>\n",
       "      <td>9258.992965</td>\n",
       "    </tr>\n",
       "    <tr>\n",
       "      <th>3</th>\n",
       "      <td>59</td>\n",
       "      <td>74373</td>\n",
       "      <td>0.765680</td>\n",
       "      <td>7346.334504</td>\n",
       "    </tr>\n",
       "    <tr>\n",
       "      <th>4</th>\n",
       "      <td>87</td>\n",
       "      <td>17760</td>\n",
       "      <td>0.348778</td>\n",
       "      <td>16869.507130</td>\n",
       "    </tr>\n",
       "  </tbody>\n",
       "</table>\n",
       "</div>"
      ],
      "text/plain": [
       "   Age  Income  SpendingScore       Savings\n",
       "0   58   77769       0.791329   6559.829923\n",
       "1   59   81799       0.791082   5417.661426\n",
       "2   62   74751       0.702657   9258.992965\n",
       "3   59   74373       0.765680   7346.334504\n",
       "4   87   17760       0.348778  16869.507130"
      ]
     },
     "metadata": {},
     "output_type": "display_data"
    }
   ],
   "source": [
    "from pyorange.datasets import get_data\n",
    "jewellery_data = get_data('jewellery')"
   ]
  },
  {
   "cell_type": "code",
   "execution_count": 2,
   "id": "6574aa20",
   "metadata": {},
   "outputs": [
    {
     "data": {
      "text/html": [
       "<div>\n",
       "<style scoped>\n",
       "    .dataframe tbody tr th:only-of-type {\n",
       "        vertical-align: middle;\n",
       "    }\n",
       "\n",
       "    .dataframe tbody tr th {\n",
       "        vertical-align: top;\n",
       "    }\n",
       "\n",
       "    .dataframe thead th {\n",
       "        text-align: right;\n",
       "    }\n",
       "</style>\n",
       "<table border=\"1\" class=\"dataframe\">\n",
       "  <thead>\n",
       "    <tr style=\"text-align: right;\">\n",
       "      <th></th>\n",
       "      <th>Age</th>\n",
       "      <th>Income</th>\n",
       "      <th>SpendingScore</th>\n",
       "      <th>Savings</th>\n",
       "    </tr>\n",
       "  </thead>\n",
       "  <tbody>\n",
       "    <tr>\n",
       "      <th>0</th>\n",
       "      <td>58</td>\n",
       "      <td>77769</td>\n",
       "      <td>0.791329</td>\n",
       "      <td>6559.829923</td>\n",
       "    </tr>\n",
       "    <tr>\n",
       "      <th>1</th>\n",
       "      <td>59</td>\n",
       "      <td>81799</td>\n",
       "      <td>0.791082</td>\n",
       "      <td>5417.661426</td>\n",
       "    </tr>\n",
       "    <tr>\n",
       "      <th>2</th>\n",
       "      <td>62</td>\n",
       "      <td>74751</td>\n",
       "      <td>0.702657</td>\n",
       "      <td>9258.992965</td>\n",
       "    </tr>\n",
       "    <tr>\n",
       "      <th>3</th>\n",
       "      <td>59</td>\n",
       "      <td>74373</td>\n",
       "      <td>0.765680</td>\n",
       "      <td>7346.334504</td>\n",
       "    </tr>\n",
       "    <tr>\n",
       "      <th>4</th>\n",
       "      <td>87</td>\n",
       "      <td>17760</td>\n",
       "      <td>0.348778</td>\n",
       "      <td>16869.507130</td>\n",
       "    </tr>\n",
       "    <tr>\n",
       "      <th>5</th>\n",
       "      <td>29</td>\n",
       "      <td>131578</td>\n",
       "      <td>0.847034</td>\n",
       "      <td>3535.514352</td>\n",
       "    </tr>\n",
       "    <tr>\n",
       "      <th>6</th>\n",
       "      <td>54</td>\n",
       "      <td>76500</td>\n",
       "      <td>0.785198</td>\n",
       "      <td>6878.884249</td>\n",
       "    </tr>\n",
       "    <tr>\n",
       "      <th>7</th>\n",
       "      <td>87</td>\n",
       "      <td>42592</td>\n",
       "      <td>0.355290</td>\n",
       "      <td>18086.287158</td>\n",
       "    </tr>\n",
       "    <tr>\n",
       "      <th>8</th>\n",
       "      <td>83</td>\n",
       "      <td>34384</td>\n",
       "      <td>0.324719</td>\n",
       "      <td>14783.379086</td>\n",
       "    </tr>\n",
       "    <tr>\n",
       "      <th>9</th>\n",
       "      <td>84</td>\n",
       "      <td>27693</td>\n",
       "      <td>0.367063</td>\n",
       "      <td>17879.558906</td>\n",
       "    </tr>\n",
       "  </tbody>\n",
       "</table>\n",
       "</div>"
      ],
      "text/plain": [
       "   Age  Income  SpendingScore       Savings\n",
       "0   58   77769       0.791329   6559.829923\n",
       "1   59   81799       0.791082   5417.661426\n",
       "2   62   74751       0.702657   9258.992965\n",
       "3   59   74373       0.765680   7346.334504\n",
       "4   87   17760       0.348778  16869.507130\n",
       "5   29  131578       0.847034   3535.514352\n",
       "6   54   76500       0.785198   6878.884249\n",
       "7   87   42592       0.355290  18086.287158\n",
       "8   83   34384       0.324719  14783.379086\n",
       "9   84   27693       0.367063  17879.558906"
      ]
     },
     "execution_count": 2,
     "metadata": {},
     "output_type": "execute_result"
    }
   ],
   "source": [
    "jewellery_data.head(10)"
   ]
  },
  {
   "cell_type": "code",
   "execution_count": 3,
   "id": "a658119e",
   "metadata": {},
   "outputs": [
    {
     "data": {
      "text/plain": [
       "(505, 4)"
      ]
     },
     "execution_count": 3,
     "metadata": {},
     "output_type": "execute_result"
    }
   ],
   "source": [
    "jewellery_data.shape"
   ]
  },
  {
   "cell_type": "code",
   "execution_count": 4,
   "id": "8f819d3d",
   "metadata": {},
   "outputs": [
    {
     "data": {
      "text/plain": [
       "Index(['Age', 'Income', 'SpendingScore', 'Savings'], dtype='object')"
      ]
     },
     "execution_count": 4,
     "metadata": {},
     "output_type": "execute_result"
    }
   ],
   "source": [
    "jewellery_data.columns"
   ]
  },
  {
   "cell_type": "code",
   "execution_count": 5,
   "id": "7f4f6848",
   "metadata": {},
   "outputs": [
    {
     "name": "stdout",
     "output_type": "stream",
     "text": [
      "<class 'pandas.core.frame.DataFrame'>\n",
      "RangeIndex: 505 entries, 0 to 504\n",
      "Data columns (total 4 columns):\n",
      " #   Column         Non-Null Count  Dtype  \n",
      "---  ------         --------------  -----  \n",
      " 0   Age            505 non-null    int64  \n",
      " 1   Income         505 non-null    int64  \n",
      " 2   SpendingScore  505 non-null    float64\n",
      " 3   Savings        505 non-null    float64\n",
      "dtypes: float64(2), int64(2)\n",
      "memory usage: 15.9 KB\n"
     ]
    }
   ],
   "source": [
    "jewellery_data.info()"
   ]
  },
  {
   "cell_type": "code",
   "execution_count": 6,
   "id": "d41cc0f3",
   "metadata": {},
   "outputs": [
    {
     "data": {
      "text/html": [
       "<div>\n",
       "<style scoped>\n",
       "    .dataframe tbody tr th:only-of-type {\n",
       "        vertical-align: middle;\n",
       "    }\n",
       "\n",
       "    .dataframe tbody tr th {\n",
       "        vertical-align: top;\n",
       "    }\n",
       "\n",
       "    .dataframe thead th {\n",
       "        text-align: right;\n",
       "    }\n",
       "</style>\n",
       "<table border=\"1\" class=\"dataframe\">\n",
       "  <thead>\n",
       "    <tr style=\"text-align: right;\">\n",
       "      <th></th>\n",
       "      <th>Age</th>\n",
       "      <th>Income</th>\n",
       "      <th>SpendingScore</th>\n",
       "      <th>Savings</th>\n",
       "    </tr>\n",
       "  </thead>\n",
       "  <tbody>\n",
       "    <tr>\n",
       "      <th>count</th>\n",
       "      <td>505.000000</td>\n",
       "      <td>505.000000</td>\n",
       "      <td>505.000000</td>\n",
       "      <td>505.000000</td>\n",
       "    </tr>\n",
       "    <tr>\n",
       "      <th>mean</th>\n",
       "      <td>59.019802</td>\n",
       "      <td>75513.291089</td>\n",
       "      <td>0.505083</td>\n",
       "      <td>11862.455867</td>\n",
       "    </tr>\n",
       "    <tr>\n",
       "      <th>std</th>\n",
       "      <td>24.140043</td>\n",
       "      <td>35992.922184</td>\n",
       "      <td>0.259634</td>\n",
       "      <td>4949.229253</td>\n",
       "    </tr>\n",
       "    <tr>\n",
       "      <th>min</th>\n",
       "      <td>17.000000</td>\n",
       "      <td>12000.000000</td>\n",
       "      <td>0.000000</td>\n",
       "      <td>0.000000</td>\n",
       "    </tr>\n",
       "    <tr>\n",
       "      <th>25%</th>\n",
       "      <td>34.000000</td>\n",
       "      <td>34529.000000</td>\n",
       "      <td>0.304792</td>\n",
       "      <td>6828.709702</td>\n",
       "    </tr>\n",
       "    <tr>\n",
       "      <th>50%</th>\n",
       "      <td>59.000000</td>\n",
       "      <td>75078.000000</td>\n",
       "      <td>0.368215</td>\n",
       "      <td>14209.932802</td>\n",
       "    </tr>\n",
       "    <tr>\n",
       "      <th>75%</th>\n",
       "      <td>85.000000</td>\n",
       "      <td>107100.000000</td>\n",
       "      <td>0.768279</td>\n",
       "      <td>16047.268331</td>\n",
       "    </tr>\n",
       "    <tr>\n",
       "      <th>max</th>\n",
       "      <td>97.000000</td>\n",
       "      <td>142000.000000</td>\n",
       "      <td>1.000000</td>\n",
       "      <td>20000.000000</td>\n",
       "    </tr>\n",
       "  </tbody>\n",
       "</table>\n",
       "</div>"
      ],
      "text/plain": [
       "              Age         Income  SpendingScore       Savings\n",
       "count  505.000000     505.000000     505.000000    505.000000\n",
       "mean    59.019802   75513.291089       0.505083  11862.455867\n",
       "std     24.140043   35992.922184       0.259634   4949.229253\n",
       "min     17.000000   12000.000000       0.000000      0.000000\n",
       "25%     34.000000   34529.000000       0.304792   6828.709702\n",
       "50%     59.000000   75078.000000       0.368215  14209.932802\n",
       "75%     85.000000  107100.000000       0.768279  16047.268331\n",
       "max     97.000000  142000.000000       1.000000  20000.000000"
      ]
     },
     "execution_count": 6,
     "metadata": {},
     "output_type": "execute_result"
    }
   ],
   "source": [
    "jewellery_data.describe()"
   ]
  },
  {
   "cell_type": "markdown",
   "id": "7f9ee474",
   "metadata": {},
   "source": [
    "# splitting the trained and testing data for clustering"
   ]
  },
  {
   "cell_type": "code",
   "execution_count": 7,
   "id": "33396af3",
   "metadata": {},
   "outputs": [],
   "source": [
    "train_jewellery = jewellery_data.iloc[0:480,:]\n",
    "unseen_data = jewellery_data.iloc[480: , :]"
   ]
  },
  {
   "cell_type": "code",
   "execution_count": 8,
   "id": "6d6d46be",
   "metadata": {},
   "outputs": [
    {
     "data": {
      "text/plain": [
       "(480, 4)"
      ]
     },
     "execution_count": 8,
     "metadata": {},
     "output_type": "execute_result"
    }
   ],
   "source": [
    "train_jewellery.shape"
   ]
  },
  {
   "cell_type": "code",
   "execution_count": 9,
   "id": "470935a6",
   "metadata": {},
   "outputs": [
    {
     "data": {
      "text/plain": [
       "(25, 4)"
      ]
     },
     "execution_count": 9,
     "metadata": {},
     "output_type": "execute_result"
    }
   ],
   "source": [
    "unseen_data.shape"
   ]
  },
  {
   "cell_type": "markdown",
   "id": "df3cd65f",
   "metadata": {},
   "source": [
    "# Initializing the cluster model"
   ]
  },
  {
   "cell_type": "code",
   "execution_count": 10,
   "id": "aaa63278",
   "metadata": {},
   "outputs": [
    {
     "data": {
      "text/html": [
       "<style  type=\"text/css\" >\n",
       "</style><table id=\"T_a6bd12b8_63df_11ec_b4a2_d46a6ae7ae04\" ><thead>    <tr>        <th class=\"blank level0\" ></th>        <th class=\"col_heading level0 col0\" >Description</th>        <th class=\"col_heading level0 col1\" >Value</th>    </tr></thead><tbody>\n",
       "                <tr>\n",
       "                        <th id=\"T_a6bd12b8_63df_11ec_b4a2_d46a6ae7ae04level0_row0\" class=\"row_heading level0 row0\" >0</th>\n",
       "                        <td id=\"T_a6bd12b8_63df_11ec_b4a2_d46a6ae7ae04row0_col0\" class=\"data row0 col0\" >session_id</td>\n",
       "                        <td id=\"T_a6bd12b8_63df_11ec_b4a2_d46a6ae7ae04row0_col1\" class=\"data row0 col1\" >1956</td>\n",
       "            </tr>\n",
       "            <tr>\n",
       "                        <th id=\"T_a6bd12b8_63df_11ec_b4a2_d46a6ae7ae04level0_row1\" class=\"row_heading level0 row1\" >1</th>\n",
       "                        <td id=\"T_a6bd12b8_63df_11ec_b4a2_d46a6ae7ae04row1_col0\" class=\"data row1 col0\" >Original Data</td>\n",
       "                        <td id=\"T_a6bd12b8_63df_11ec_b4a2_d46a6ae7ae04row1_col1\" class=\"data row1 col1\" >(480, 4)</td>\n",
       "            </tr>\n",
       "            <tr>\n",
       "                        <th id=\"T_a6bd12b8_63df_11ec_b4a2_d46a6ae7ae04level0_row2\" class=\"row_heading level0 row2\" >2</th>\n",
       "                        <td id=\"T_a6bd12b8_63df_11ec_b4a2_d46a6ae7ae04row2_col0\" class=\"data row2 col0\" >Missing Values</td>\n",
       "                        <td id=\"T_a6bd12b8_63df_11ec_b4a2_d46a6ae7ae04row2_col1\" class=\"data row2 col1\" >False</td>\n",
       "            </tr>\n",
       "            <tr>\n",
       "                        <th id=\"T_a6bd12b8_63df_11ec_b4a2_d46a6ae7ae04level0_row3\" class=\"row_heading level0 row3\" >3</th>\n",
       "                        <td id=\"T_a6bd12b8_63df_11ec_b4a2_d46a6ae7ae04row3_col0\" class=\"data row3 col0\" >Numeric Features</td>\n",
       "                        <td id=\"T_a6bd12b8_63df_11ec_b4a2_d46a6ae7ae04row3_col1\" class=\"data row3 col1\" >4</td>\n",
       "            </tr>\n",
       "            <tr>\n",
       "                        <th id=\"T_a6bd12b8_63df_11ec_b4a2_d46a6ae7ae04level0_row4\" class=\"row_heading level0 row4\" >4</th>\n",
       "                        <td id=\"T_a6bd12b8_63df_11ec_b4a2_d46a6ae7ae04row4_col0\" class=\"data row4 col0\" >Categorical Features</td>\n",
       "                        <td id=\"T_a6bd12b8_63df_11ec_b4a2_d46a6ae7ae04row4_col1\" class=\"data row4 col1\" >0</td>\n",
       "            </tr>\n",
       "            <tr>\n",
       "                        <th id=\"T_a6bd12b8_63df_11ec_b4a2_d46a6ae7ae04level0_row5\" class=\"row_heading level0 row5\" >5</th>\n",
       "                        <td id=\"T_a6bd12b8_63df_11ec_b4a2_d46a6ae7ae04row5_col0\" class=\"data row5 col0\" >Ordinal Features</td>\n",
       "                        <td id=\"T_a6bd12b8_63df_11ec_b4a2_d46a6ae7ae04row5_col1\" class=\"data row5 col1\" >False</td>\n",
       "            </tr>\n",
       "            <tr>\n",
       "                        <th id=\"T_a6bd12b8_63df_11ec_b4a2_d46a6ae7ae04level0_row6\" class=\"row_heading level0 row6\" >6</th>\n",
       "                        <td id=\"T_a6bd12b8_63df_11ec_b4a2_d46a6ae7ae04row6_col0\" class=\"data row6 col0\" >High Cardinality Features</td>\n",
       "                        <td id=\"T_a6bd12b8_63df_11ec_b4a2_d46a6ae7ae04row6_col1\" class=\"data row6 col1\" >False</td>\n",
       "            </tr>\n",
       "            <tr>\n",
       "                        <th id=\"T_a6bd12b8_63df_11ec_b4a2_d46a6ae7ae04level0_row7\" class=\"row_heading level0 row7\" >7</th>\n",
       "                        <td id=\"T_a6bd12b8_63df_11ec_b4a2_d46a6ae7ae04row7_col0\" class=\"data row7 col0\" >High Cardinality Method</td>\n",
       "                        <td id=\"T_a6bd12b8_63df_11ec_b4a2_d46a6ae7ae04row7_col1\" class=\"data row7 col1\" >None</td>\n",
       "            </tr>\n",
       "            <tr>\n",
       "                        <th id=\"T_a6bd12b8_63df_11ec_b4a2_d46a6ae7ae04level0_row8\" class=\"row_heading level0 row8\" >8</th>\n",
       "                        <td id=\"T_a6bd12b8_63df_11ec_b4a2_d46a6ae7ae04row8_col0\" class=\"data row8 col0\" >Transformed Data</td>\n",
       "                        <td id=\"T_a6bd12b8_63df_11ec_b4a2_d46a6ae7ae04row8_col1\" class=\"data row8 col1\" >(480, 4)</td>\n",
       "            </tr>\n",
       "            <tr>\n",
       "                        <th id=\"T_a6bd12b8_63df_11ec_b4a2_d46a6ae7ae04level0_row9\" class=\"row_heading level0 row9\" >9</th>\n",
       "                        <td id=\"T_a6bd12b8_63df_11ec_b4a2_d46a6ae7ae04row9_col0\" class=\"data row9 col0\" >CPU Jobs</td>\n",
       "                        <td id=\"T_a6bd12b8_63df_11ec_b4a2_d46a6ae7ae04row9_col1\" class=\"data row9 col1\" >-1</td>\n",
       "            </tr>\n",
       "            <tr>\n",
       "                        <th id=\"T_a6bd12b8_63df_11ec_b4a2_d46a6ae7ae04level0_row10\" class=\"row_heading level0 row10\" >10</th>\n",
       "                        <td id=\"T_a6bd12b8_63df_11ec_b4a2_d46a6ae7ae04row10_col0\" class=\"data row10 col0\" >Use GPU</td>\n",
       "                        <td id=\"T_a6bd12b8_63df_11ec_b4a2_d46a6ae7ae04row10_col1\" class=\"data row10 col1\" >False</td>\n",
       "            </tr>\n",
       "            <tr>\n",
       "                        <th id=\"T_a6bd12b8_63df_11ec_b4a2_d46a6ae7ae04level0_row11\" class=\"row_heading level0 row11\" >11</th>\n",
       "                        <td id=\"T_a6bd12b8_63df_11ec_b4a2_d46a6ae7ae04row11_col0\" class=\"data row11 col0\" >Log Experiment</td>\n",
       "                        <td id=\"T_a6bd12b8_63df_11ec_b4a2_d46a6ae7ae04row11_col1\" class=\"data row11 col1\" >False</td>\n",
       "            </tr>\n",
       "            <tr>\n",
       "                        <th id=\"T_a6bd12b8_63df_11ec_b4a2_d46a6ae7ae04level0_row12\" class=\"row_heading level0 row12\" >12</th>\n",
       "                        <td id=\"T_a6bd12b8_63df_11ec_b4a2_d46a6ae7ae04row12_col0\" class=\"data row12 col0\" >Experiment Name</td>\n",
       "                        <td id=\"T_a6bd12b8_63df_11ec_b4a2_d46a6ae7ae04row12_col1\" class=\"data row12 col1\" >cluster-default-name</td>\n",
       "            </tr>\n",
       "            <tr>\n",
       "                        <th id=\"T_a6bd12b8_63df_11ec_b4a2_d46a6ae7ae04level0_row13\" class=\"row_heading level0 row13\" >13</th>\n",
       "                        <td id=\"T_a6bd12b8_63df_11ec_b4a2_d46a6ae7ae04row13_col0\" class=\"data row13 col0\" >USI</td>\n",
       "                        <td id=\"T_a6bd12b8_63df_11ec_b4a2_d46a6ae7ae04row13_col1\" class=\"data row13 col1\" >1007</td>\n",
       "            </tr>\n",
       "            <tr>\n",
       "                        <th id=\"T_a6bd12b8_63df_11ec_b4a2_d46a6ae7ae04level0_row14\" class=\"row_heading level0 row14\" >14</th>\n",
       "                        <td id=\"T_a6bd12b8_63df_11ec_b4a2_d46a6ae7ae04row14_col0\" class=\"data row14 col0\" >Imputation Type</td>\n",
       "                        <td id=\"T_a6bd12b8_63df_11ec_b4a2_d46a6ae7ae04row14_col1\" class=\"data row14 col1\" >simple</td>\n",
       "            </tr>\n",
       "            <tr>\n",
       "                        <th id=\"T_a6bd12b8_63df_11ec_b4a2_d46a6ae7ae04level0_row15\" class=\"row_heading level0 row15\" >15</th>\n",
       "                        <td id=\"T_a6bd12b8_63df_11ec_b4a2_d46a6ae7ae04row15_col0\" class=\"data row15 col0\" >Iterative Imputation Iteration</td>\n",
       "                        <td id=\"T_a6bd12b8_63df_11ec_b4a2_d46a6ae7ae04row15_col1\" class=\"data row15 col1\" >None</td>\n",
       "            </tr>\n",
       "            <tr>\n",
       "                        <th id=\"T_a6bd12b8_63df_11ec_b4a2_d46a6ae7ae04level0_row16\" class=\"row_heading level0 row16\" >16</th>\n",
       "                        <td id=\"T_a6bd12b8_63df_11ec_b4a2_d46a6ae7ae04row16_col0\" class=\"data row16 col0\" >Numeric Imputer</td>\n",
       "                        <td id=\"T_a6bd12b8_63df_11ec_b4a2_d46a6ae7ae04row16_col1\" class=\"data row16 col1\" >mean</td>\n",
       "            </tr>\n",
       "            <tr>\n",
       "                        <th id=\"T_a6bd12b8_63df_11ec_b4a2_d46a6ae7ae04level0_row17\" class=\"row_heading level0 row17\" >17</th>\n",
       "                        <td id=\"T_a6bd12b8_63df_11ec_b4a2_d46a6ae7ae04row17_col0\" class=\"data row17 col0\" >Iterative Imputation Numeric Model</td>\n",
       "                        <td id=\"T_a6bd12b8_63df_11ec_b4a2_d46a6ae7ae04row17_col1\" class=\"data row17 col1\" >None</td>\n",
       "            </tr>\n",
       "            <tr>\n",
       "                        <th id=\"T_a6bd12b8_63df_11ec_b4a2_d46a6ae7ae04level0_row18\" class=\"row_heading level0 row18\" >18</th>\n",
       "                        <td id=\"T_a6bd12b8_63df_11ec_b4a2_d46a6ae7ae04row18_col0\" class=\"data row18 col0\" >Categorical Imputer</td>\n",
       "                        <td id=\"T_a6bd12b8_63df_11ec_b4a2_d46a6ae7ae04row18_col1\" class=\"data row18 col1\" >mode</td>\n",
       "            </tr>\n",
       "            <tr>\n",
       "                        <th id=\"T_a6bd12b8_63df_11ec_b4a2_d46a6ae7ae04level0_row19\" class=\"row_heading level0 row19\" >19</th>\n",
       "                        <td id=\"T_a6bd12b8_63df_11ec_b4a2_d46a6ae7ae04row19_col0\" class=\"data row19 col0\" >Iterative Imputation Categorical Model</td>\n",
       "                        <td id=\"T_a6bd12b8_63df_11ec_b4a2_d46a6ae7ae04row19_col1\" class=\"data row19 col1\" >None</td>\n",
       "            </tr>\n",
       "            <tr>\n",
       "                        <th id=\"T_a6bd12b8_63df_11ec_b4a2_d46a6ae7ae04level0_row20\" class=\"row_heading level0 row20\" >20</th>\n",
       "                        <td id=\"T_a6bd12b8_63df_11ec_b4a2_d46a6ae7ae04row20_col0\" class=\"data row20 col0\" >Unknown Categoricals Handling</td>\n",
       "                        <td id=\"T_a6bd12b8_63df_11ec_b4a2_d46a6ae7ae04row20_col1\" class=\"data row20 col1\" >least_frequent</td>\n",
       "            </tr>\n",
       "            <tr>\n",
       "                        <th id=\"T_a6bd12b8_63df_11ec_b4a2_d46a6ae7ae04level0_row21\" class=\"row_heading level0 row21\" >21</th>\n",
       "                        <td id=\"T_a6bd12b8_63df_11ec_b4a2_d46a6ae7ae04row21_col0\" class=\"data row21 col0\" >Normalize</td>\n",
       "                        <td id=\"T_a6bd12b8_63df_11ec_b4a2_d46a6ae7ae04row21_col1\" class=\"data row21 col1\" >False</td>\n",
       "            </tr>\n",
       "            <tr>\n",
       "                        <th id=\"T_a6bd12b8_63df_11ec_b4a2_d46a6ae7ae04level0_row22\" class=\"row_heading level0 row22\" >22</th>\n",
       "                        <td id=\"T_a6bd12b8_63df_11ec_b4a2_d46a6ae7ae04row22_col0\" class=\"data row22 col0\" >Normalize Method</td>\n",
       "                        <td id=\"T_a6bd12b8_63df_11ec_b4a2_d46a6ae7ae04row22_col1\" class=\"data row22 col1\" >None</td>\n",
       "            </tr>\n",
       "            <tr>\n",
       "                        <th id=\"T_a6bd12b8_63df_11ec_b4a2_d46a6ae7ae04level0_row23\" class=\"row_heading level0 row23\" >23</th>\n",
       "                        <td id=\"T_a6bd12b8_63df_11ec_b4a2_d46a6ae7ae04row23_col0\" class=\"data row23 col0\" >Transformation</td>\n",
       "                        <td id=\"T_a6bd12b8_63df_11ec_b4a2_d46a6ae7ae04row23_col1\" class=\"data row23 col1\" >False</td>\n",
       "            </tr>\n",
       "            <tr>\n",
       "                        <th id=\"T_a6bd12b8_63df_11ec_b4a2_d46a6ae7ae04level0_row24\" class=\"row_heading level0 row24\" >24</th>\n",
       "                        <td id=\"T_a6bd12b8_63df_11ec_b4a2_d46a6ae7ae04row24_col0\" class=\"data row24 col0\" >Transformation Method</td>\n",
       "                        <td id=\"T_a6bd12b8_63df_11ec_b4a2_d46a6ae7ae04row24_col1\" class=\"data row24 col1\" >None</td>\n",
       "            </tr>\n",
       "            <tr>\n",
       "                        <th id=\"T_a6bd12b8_63df_11ec_b4a2_d46a6ae7ae04level0_row25\" class=\"row_heading level0 row25\" >25</th>\n",
       "                        <td id=\"T_a6bd12b8_63df_11ec_b4a2_d46a6ae7ae04row25_col0\" class=\"data row25 col0\" >PCA</td>\n",
       "                        <td id=\"T_a6bd12b8_63df_11ec_b4a2_d46a6ae7ae04row25_col1\" class=\"data row25 col1\" >False</td>\n",
       "            </tr>\n",
       "            <tr>\n",
       "                        <th id=\"T_a6bd12b8_63df_11ec_b4a2_d46a6ae7ae04level0_row26\" class=\"row_heading level0 row26\" >26</th>\n",
       "                        <td id=\"T_a6bd12b8_63df_11ec_b4a2_d46a6ae7ae04row26_col0\" class=\"data row26 col0\" >PCA Method</td>\n",
       "                        <td id=\"T_a6bd12b8_63df_11ec_b4a2_d46a6ae7ae04row26_col1\" class=\"data row26 col1\" >None</td>\n",
       "            </tr>\n",
       "            <tr>\n",
       "                        <th id=\"T_a6bd12b8_63df_11ec_b4a2_d46a6ae7ae04level0_row27\" class=\"row_heading level0 row27\" >27</th>\n",
       "                        <td id=\"T_a6bd12b8_63df_11ec_b4a2_d46a6ae7ae04row27_col0\" class=\"data row27 col0\" >PCA Components</td>\n",
       "                        <td id=\"T_a6bd12b8_63df_11ec_b4a2_d46a6ae7ae04row27_col1\" class=\"data row27 col1\" >None</td>\n",
       "            </tr>\n",
       "            <tr>\n",
       "                        <th id=\"T_a6bd12b8_63df_11ec_b4a2_d46a6ae7ae04level0_row28\" class=\"row_heading level0 row28\" >28</th>\n",
       "                        <td id=\"T_a6bd12b8_63df_11ec_b4a2_d46a6ae7ae04row28_col0\" class=\"data row28 col0\" >Ignore Low Variance</td>\n",
       "                        <td id=\"T_a6bd12b8_63df_11ec_b4a2_d46a6ae7ae04row28_col1\" class=\"data row28 col1\" >False</td>\n",
       "            </tr>\n",
       "            <tr>\n",
       "                        <th id=\"T_a6bd12b8_63df_11ec_b4a2_d46a6ae7ae04level0_row29\" class=\"row_heading level0 row29\" >29</th>\n",
       "                        <td id=\"T_a6bd12b8_63df_11ec_b4a2_d46a6ae7ae04row29_col0\" class=\"data row29 col0\" >Combine Rare Levels</td>\n",
       "                        <td id=\"T_a6bd12b8_63df_11ec_b4a2_d46a6ae7ae04row29_col1\" class=\"data row29 col1\" >False</td>\n",
       "            </tr>\n",
       "            <tr>\n",
       "                        <th id=\"T_a6bd12b8_63df_11ec_b4a2_d46a6ae7ae04level0_row30\" class=\"row_heading level0 row30\" >30</th>\n",
       "                        <td id=\"T_a6bd12b8_63df_11ec_b4a2_d46a6ae7ae04row30_col0\" class=\"data row30 col0\" >Rare Level Threshold</td>\n",
       "                        <td id=\"T_a6bd12b8_63df_11ec_b4a2_d46a6ae7ae04row30_col1\" class=\"data row30 col1\" >None</td>\n",
       "            </tr>\n",
       "            <tr>\n",
       "                        <th id=\"T_a6bd12b8_63df_11ec_b4a2_d46a6ae7ae04level0_row31\" class=\"row_heading level0 row31\" >31</th>\n",
       "                        <td id=\"T_a6bd12b8_63df_11ec_b4a2_d46a6ae7ae04row31_col0\" class=\"data row31 col0\" >Numeric Binning</td>\n",
       "                        <td id=\"T_a6bd12b8_63df_11ec_b4a2_d46a6ae7ae04row31_col1\" class=\"data row31 col1\" >False</td>\n",
       "            </tr>\n",
       "            <tr>\n",
       "                        <th id=\"T_a6bd12b8_63df_11ec_b4a2_d46a6ae7ae04level0_row32\" class=\"row_heading level0 row32\" >32</th>\n",
       "                        <td id=\"T_a6bd12b8_63df_11ec_b4a2_d46a6ae7ae04row32_col0\" class=\"data row32 col0\" >Remove Outliers</td>\n",
       "                        <td id=\"T_a6bd12b8_63df_11ec_b4a2_d46a6ae7ae04row32_col1\" class=\"data row32 col1\" >False</td>\n",
       "            </tr>\n",
       "            <tr>\n",
       "                        <th id=\"T_a6bd12b8_63df_11ec_b4a2_d46a6ae7ae04level0_row33\" class=\"row_heading level0 row33\" >33</th>\n",
       "                        <td id=\"T_a6bd12b8_63df_11ec_b4a2_d46a6ae7ae04row33_col0\" class=\"data row33 col0\" >Outliers Threshold</td>\n",
       "                        <td id=\"T_a6bd12b8_63df_11ec_b4a2_d46a6ae7ae04row33_col1\" class=\"data row33 col1\" >None</td>\n",
       "            </tr>\n",
       "            <tr>\n",
       "                        <th id=\"T_a6bd12b8_63df_11ec_b4a2_d46a6ae7ae04level0_row34\" class=\"row_heading level0 row34\" >34</th>\n",
       "                        <td id=\"T_a6bd12b8_63df_11ec_b4a2_d46a6ae7ae04row34_col0\" class=\"data row34 col0\" >Remove Multicollinearity</td>\n",
       "                        <td id=\"T_a6bd12b8_63df_11ec_b4a2_d46a6ae7ae04row34_col1\" class=\"data row34 col1\" >False</td>\n",
       "            </tr>\n",
       "            <tr>\n",
       "                        <th id=\"T_a6bd12b8_63df_11ec_b4a2_d46a6ae7ae04level0_row35\" class=\"row_heading level0 row35\" >35</th>\n",
       "                        <td id=\"T_a6bd12b8_63df_11ec_b4a2_d46a6ae7ae04row35_col0\" class=\"data row35 col0\" >Multicollinearity Threshold</td>\n",
       "                        <td id=\"T_a6bd12b8_63df_11ec_b4a2_d46a6ae7ae04row35_col1\" class=\"data row35 col1\" >None</td>\n",
       "            </tr>\n",
       "            <tr>\n",
       "                        <th id=\"T_a6bd12b8_63df_11ec_b4a2_d46a6ae7ae04level0_row36\" class=\"row_heading level0 row36\" >36</th>\n",
       "                        <td id=\"T_a6bd12b8_63df_11ec_b4a2_d46a6ae7ae04row36_col0\" class=\"data row36 col0\" >Remove Perfect Collinearity</td>\n",
       "                        <td id=\"T_a6bd12b8_63df_11ec_b4a2_d46a6ae7ae04row36_col1\" class=\"data row36 col1\" >False</td>\n",
       "            </tr>\n",
       "            <tr>\n",
       "                        <th id=\"T_a6bd12b8_63df_11ec_b4a2_d46a6ae7ae04level0_row37\" class=\"row_heading level0 row37\" >37</th>\n",
       "                        <td id=\"T_a6bd12b8_63df_11ec_b4a2_d46a6ae7ae04row37_col0\" class=\"data row37 col0\" >Clustering</td>\n",
       "                        <td id=\"T_a6bd12b8_63df_11ec_b4a2_d46a6ae7ae04row37_col1\" class=\"data row37 col1\" >False</td>\n",
       "            </tr>\n",
       "            <tr>\n",
       "                        <th id=\"T_a6bd12b8_63df_11ec_b4a2_d46a6ae7ae04level0_row38\" class=\"row_heading level0 row38\" >38</th>\n",
       "                        <td id=\"T_a6bd12b8_63df_11ec_b4a2_d46a6ae7ae04row38_col0\" class=\"data row38 col0\" >Clustering Iteration</td>\n",
       "                        <td id=\"T_a6bd12b8_63df_11ec_b4a2_d46a6ae7ae04row38_col1\" class=\"data row38 col1\" >None</td>\n",
       "            </tr>\n",
       "            <tr>\n",
       "                        <th id=\"T_a6bd12b8_63df_11ec_b4a2_d46a6ae7ae04level0_row39\" class=\"row_heading level0 row39\" >39</th>\n",
       "                        <td id=\"T_a6bd12b8_63df_11ec_b4a2_d46a6ae7ae04row39_col0\" class=\"data row39 col0\" >Polynomial Features</td>\n",
       "                        <td id=\"T_a6bd12b8_63df_11ec_b4a2_d46a6ae7ae04row39_col1\" class=\"data row39 col1\" >False</td>\n",
       "            </tr>\n",
       "            <tr>\n",
       "                        <th id=\"T_a6bd12b8_63df_11ec_b4a2_d46a6ae7ae04level0_row40\" class=\"row_heading level0 row40\" >40</th>\n",
       "                        <td id=\"T_a6bd12b8_63df_11ec_b4a2_d46a6ae7ae04row40_col0\" class=\"data row40 col0\" >Polynomial Degree</td>\n",
       "                        <td id=\"T_a6bd12b8_63df_11ec_b4a2_d46a6ae7ae04row40_col1\" class=\"data row40 col1\" >None</td>\n",
       "            </tr>\n",
       "            <tr>\n",
       "                        <th id=\"T_a6bd12b8_63df_11ec_b4a2_d46a6ae7ae04level0_row41\" class=\"row_heading level0 row41\" >41</th>\n",
       "                        <td id=\"T_a6bd12b8_63df_11ec_b4a2_d46a6ae7ae04row41_col0\" class=\"data row41 col0\" >Trignometry Features</td>\n",
       "                        <td id=\"T_a6bd12b8_63df_11ec_b4a2_d46a6ae7ae04row41_col1\" class=\"data row41 col1\" >False</td>\n",
       "            </tr>\n",
       "            <tr>\n",
       "                        <th id=\"T_a6bd12b8_63df_11ec_b4a2_d46a6ae7ae04level0_row42\" class=\"row_heading level0 row42\" >42</th>\n",
       "                        <td id=\"T_a6bd12b8_63df_11ec_b4a2_d46a6ae7ae04row42_col0\" class=\"data row42 col0\" >Polynomial Threshold</td>\n",
       "                        <td id=\"T_a6bd12b8_63df_11ec_b4a2_d46a6ae7ae04row42_col1\" class=\"data row42 col1\" >None</td>\n",
       "            </tr>\n",
       "            <tr>\n",
       "                        <th id=\"T_a6bd12b8_63df_11ec_b4a2_d46a6ae7ae04level0_row43\" class=\"row_heading level0 row43\" >43</th>\n",
       "                        <td id=\"T_a6bd12b8_63df_11ec_b4a2_d46a6ae7ae04row43_col0\" class=\"data row43 col0\" >Group Features</td>\n",
       "                        <td id=\"T_a6bd12b8_63df_11ec_b4a2_d46a6ae7ae04row43_col1\" class=\"data row43 col1\" >False</td>\n",
       "            </tr>\n",
       "            <tr>\n",
       "                        <th id=\"T_a6bd12b8_63df_11ec_b4a2_d46a6ae7ae04level0_row44\" class=\"row_heading level0 row44\" >44</th>\n",
       "                        <td id=\"T_a6bd12b8_63df_11ec_b4a2_d46a6ae7ae04row44_col0\" class=\"data row44 col0\" >Feature Selection</td>\n",
       "                        <td id=\"T_a6bd12b8_63df_11ec_b4a2_d46a6ae7ae04row44_col1\" class=\"data row44 col1\" >False</td>\n",
       "            </tr>\n",
       "            <tr>\n",
       "                        <th id=\"T_a6bd12b8_63df_11ec_b4a2_d46a6ae7ae04level0_row45\" class=\"row_heading level0 row45\" >45</th>\n",
       "                        <td id=\"T_a6bd12b8_63df_11ec_b4a2_d46a6ae7ae04row45_col0\" class=\"data row45 col0\" >Feature Selection Method</td>\n",
       "                        <td id=\"T_a6bd12b8_63df_11ec_b4a2_d46a6ae7ae04row45_col1\" class=\"data row45 col1\" >classic</td>\n",
       "            </tr>\n",
       "            <tr>\n",
       "                        <th id=\"T_a6bd12b8_63df_11ec_b4a2_d46a6ae7ae04level0_row46\" class=\"row_heading level0 row46\" >46</th>\n",
       "                        <td id=\"T_a6bd12b8_63df_11ec_b4a2_d46a6ae7ae04row46_col0\" class=\"data row46 col0\" >Features Selection Threshold</td>\n",
       "                        <td id=\"T_a6bd12b8_63df_11ec_b4a2_d46a6ae7ae04row46_col1\" class=\"data row46 col1\" >None</td>\n",
       "            </tr>\n",
       "            <tr>\n",
       "                        <th id=\"T_a6bd12b8_63df_11ec_b4a2_d46a6ae7ae04level0_row47\" class=\"row_heading level0 row47\" >47</th>\n",
       "                        <td id=\"T_a6bd12b8_63df_11ec_b4a2_d46a6ae7ae04row47_col0\" class=\"data row47 col0\" >Feature Interaction</td>\n",
       "                        <td id=\"T_a6bd12b8_63df_11ec_b4a2_d46a6ae7ae04row47_col1\" class=\"data row47 col1\" >False</td>\n",
       "            </tr>\n",
       "            <tr>\n",
       "                        <th id=\"T_a6bd12b8_63df_11ec_b4a2_d46a6ae7ae04level0_row48\" class=\"row_heading level0 row48\" >48</th>\n",
       "                        <td id=\"T_a6bd12b8_63df_11ec_b4a2_d46a6ae7ae04row48_col0\" class=\"data row48 col0\" >Feature Ratio</td>\n",
       "                        <td id=\"T_a6bd12b8_63df_11ec_b4a2_d46a6ae7ae04row48_col1\" class=\"data row48 col1\" >False</td>\n",
       "            </tr>\n",
       "            <tr>\n",
       "                        <th id=\"T_a6bd12b8_63df_11ec_b4a2_d46a6ae7ae04level0_row49\" class=\"row_heading level0 row49\" >49</th>\n",
       "                        <td id=\"T_a6bd12b8_63df_11ec_b4a2_d46a6ae7ae04row49_col0\" class=\"data row49 col0\" >Interaction Threshold</td>\n",
       "                        <td id=\"T_a6bd12b8_63df_11ec_b4a2_d46a6ae7ae04row49_col1\" class=\"data row49 col1\" >None</td>\n",
       "            </tr>\n",
       "    </tbody></table>"
      ],
      "text/plain": [
       "<pandas.io.formats.style.Styler at 0x1626a64ac10>"
      ]
     },
     "metadata": {},
     "output_type": "display_data"
    }
   ],
   "source": [
    "from pyorange.clustering import *\n",
    "jew_cluster = setup(data = train_jewellery)"
   ]
  },
  {
   "cell_type": "markdown",
   "id": "fcb90e16",
   "metadata": {},
   "source": [
    "# creating kmeans clustering"
   ]
  },
  {
   "cell_type": "code",
   "execution_count": 11,
   "id": "79ca100a",
   "metadata": {},
   "outputs": [
    {
     "data": {
      "text/html": [
       "<div>\n",
       "<style scoped>\n",
       "    .dataframe tbody tr th:only-of-type {\n",
       "        vertical-align: middle;\n",
       "    }\n",
       "\n",
       "    .dataframe tbody tr th {\n",
       "        vertical-align: top;\n",
       "    }\n",
       "\n",
       "    .dataframe thead th {\n",
       "        text-align: right;\n",
       "    }\n",
       "</style>\n",
       "<table border=\"1\" class=\"dataframe\">\n",
       "  <thead>\n",
       "    <tr style=\"text-align: right;\">\n",
       "      <th></th>\n",
       "      <th>Silhouette</th>\n",
       "      <th>Calinski-Harabasz</th>\n",
       "      <th>Davies-Bouldin</th>\n",
       "      <th>Homogeneity</th>\n",
       "      <th>Rand Index</th>\n",
       "      <th>Completeness</th>\n",
       "    </tr>\n",
       "  </thead>\n",
       "  <tbody>\n",
       "    <tr>\n",
       "      <th>0</th>\n",
       "      <td>0.715</td>\n",
       "      <td>4575.5369</td>\n",
       "      <td>0.4169</td>\n",
       "      <td>0</td>\n",
       "      <td>0</td>\n",
       "      <td>0</td>\n",
       "    </tr>\n",
       "  </tbody>\n",
       "</table>\n",
       "</div>"
      ],
      "text/plain": [
       "   Silhouette  Calinski-Harabasz  Davies-Bouldin  Homogeneity  Rand Index  \\\n",
       "0       0.715          4575.5369          0.4169            0           0   \n",
       "\n",
       "   Completeness  \n",
       "0             0  "
      ]
     },
     "metadata": {},
     "output_type": "display_data"
    }
   ],
   "source": [
    "#kmeans = create_model('kmeans',num_clusters = 4)\n",
    "kmeans = create_model('kmeans')"
   ]
  },
  {
   "cell_type": "markdown",
   "id": "891165d8",
   "metadata": {},
   "source": [
    "# evaluating the kmenas clustering "
   ]
  },
  {
   "cell_type": "code",
   "execution_count": 12,
   "id": "1bd0842e",
   "metadata": {},
   "outputs": [
    {
     "data": {
      "application/vnd.jupyter.widget-view+json": {
       "model_id": "7f7e129f965f45768fd25af91b54d0dc",
       "version_major": 2,
       "version_minor": 0
      },
      "text/plain": [
       "interactive(children=(ToggleButtons(description='Plot Type:', icons=('',), options=(('Cluster PCA Plot (2d)', …"
      ]
     },
     "metadata": {},
     "output_type": "display_data"
    }
   ],
   "source": [
    "evaluate_model(kmeans)"
   ]
  },
  {
   "cell_type": "markdown",
   "id": "56f42064",
   "metadata": {},
   "source": [
    "# checking all the availability of clustering models"
   ]
  },
  {
   "cell_type": "code",
   "execution_count": 13,
   "id": "68c2dd69",
   "metadata": {},
   "outputs": [
    {
     "data": {
      "text/html": [
       "<div>\n",
       "<style scoped>\n",
       "    .dataframe tbody tr th:only-of-type {\n",
       "        vertical-align: middle;\n",
       "    }\n",
       "\n",
       "    .dataframe tbody tr th {\n",
       "        vertical-align: top;\n",
       "    }\n",
       "\n",
       "    .dataframe thead th {\n",
       "        text-align: right;\n",
       "    }\n",
       "</style>\n",
       "<table border=\"1\" class=\"dataframe\">\n",
       "  <thead>\n",
       "    <tr style=\"text-align: right;\">\n",
       "      <th></th>\n",
       "      <th>Name</th>\n",
       "      <th>Reference</th>\n",
       "    </tr>\n",
       "    <tr>\n",
       "      <th>ID</th>\n",
       "      <th></th>\n",
       "      <th></th>\n",
       "    </tr>\n",
       "  </thead>\n",
       "  <tbody>\n",
       "    <tr>\n",
       "      <th>kmeans</th>\n",
       "      <td>K-Means Clustering</td>\n",
       "      <td>sklearn.cluster._kmeans.KMeans</td>\n",
       "    </tr>\n",
       "    <tr>\n",
       "      <th>ap</th>\n",
       "      <td>Affinity Propagation</td>\n",
       "      <td>sklearn.cluster._affinity_propagation.Affinity...</td>\n",
       "    </tr>\n",
       "    <tr>\n",
       "      <th>meanshift</th>\n",
       "      <td>Mean Shift Clustering</td>\n",
       "      <td>sklearn.cluster._mean_shift.MeanShift</td>\n",
       "    </tr>\n",
       "    <tr>\n",
       "      <th>sc</th>\n",
       "      <td>Spectral Clustering</td>\n",
       "      <td>sklearn.cluster._spectral.SpectralClustering</td>\n",
       "    </tr>\n",
       "    <tr>\n",
       "      <th>hclust</th>\n",
       "      <td>Agglomerative Clustering</td>\n",
       "      <td>sklearn.cluster._agglomerative.AgglomerativeCl...</td>\n",
       "    </tr>\n",
       "    <tr>\n",
       "      <th>dbscan</th>\n",
       "      <td>Density-Based Spatial Clustering</td>\n",
       "      <td>sklearn.cluster._dbscan.DBSCAN</td>\n",
       "    </tr>\n",
       "    <tr>\n",
       "      <th>optics</th>\n",
       "      <td>OPTICS Clustering</td>\n",
       "      <td>sklearn.cluster._optics.OPTICS</td>\n",
       "    </tr>\n",
       "    <tr>\n",
       "      <th>birch</th>\n",
       "      <td>Birch Clustering</td>\n",
       "      <td>sklearn.cluster._birch.Birch</td>\n",
       "    </tr>\n",
       "    <tr>\n",
       "      <th>kmodes</th>\n",
       "      <td>K-Modes Clustering</td>\n",
       "      <td>kmodes.kmodes.KModes</td>\n",
       "    </tr>\n",
       "  </tbody>\n",
       "</table>\n",
       "</div>"
      ],
      "text/plain": [
       "                                       Name  \\\n",
       "ID                                            \n",
       "kmeans                   K-Means Clustering   \n",
       "ap                     Affinity Propagation   \n",
       "meanshift             Mean Shift Clustering   \n",
       "sc                      Spectral Clustering   \n",
       "hclust             Agglomerative Clustering   \n",
       "dbscan     Density-Based Spatial Clustering   \n",
       "optics                    OPTICS Clustering   \n",
       "birch                      Birch Clustering   \n",
       "kmodes                   K-Modes Clustering   \n",
       "\n",
       "                                                   Reference  \n",
       "ID                                                            \n",
       "kmeans                        sklearn.cluster._kmeans.KMeans  \n",
       "ap         sklearn.cluster._affinity_propagation.Affinity...  \n",
       "meanshift              sklearn.cluster._mean_shift.MeanShift  \n",
       "sc              sklearn.cluster._spectral.SpectralClustering  \n",
       "hclust     sklearn.cluster._agglomerative.AgglomerativeCl...  \n",
       "dbscan                        sklearn.cluster._dbscan.DBSCAN  \n",
       "optics                        sklearn.cluster._optics.OPTICS  \n",
       "birch                           sklearn.cluster._birch.Birch  \n",
       "kmodes                                  kmodes.kmodes.KModes  "
      ]
     },
     "execution_count": 13,
     "metadata": {},
     "output_type": "execute_result"
    }
   ],
   "source": [
    "models()"
   ]
  },
  {
   "cell_type": "code",
   "execution_count": 14,
   "id": "113fc1d1",
   "metadata": {},
   "outputs": [
    {
     "data": {
      "text/html": [
       "<div>\n",
       "<style scoped>\n",
       "    .dataframe tbody tr th:only-of-type {\n",
       "        vertical-align: middle;\n",
       "    }\n",
       "\n",
       "    .dataframe tbody tr th {\n",
       "        vertical-align: top;\n",
       "    }\n",
       "\n",
       "    .dataframe thead th {\n",
       "        text-align: right;\n",
       "    }\n",
       "</style>\n",
       "<table border=\"1\" class=\"dataframe\">\n",
       "  <thead>\n",
       "    <tr style=\"text-align: right;\">\n",
       "      <th></th>\n",
       "      <th>Silhouette</th>\n",
       "      <th>Calinski-Harabasz</th>\n",
       "      <th>Davies-Bouldin</th>\n",
       "      <th>Homogeneity</th>\n",
       "      <th>Rand Index</th>\n",
       "      <th>Completeness</th>\n",
       "    </tr>\n",
       "  </thead>\n",
       "  <tbody>\n",
       "    <tr>\n",
       "      <th>0</th>\n",
       "      <td>0</td>\n",
       "      <td>0</td>\n",
       "      <td>0</td>\n",
       "      <td>0</td>\n",
       "      <td>0</td>\n",
       "      <td>0</td>\n",
       "    </tr>\n",
       "  </tbody>\n",
       "</table>\n",
       "</div>"
      ],
      "text/plain": [
       "   Silhouette  Calinski-Harabasz  Davies-Bouldin  Homogeneity  Rand Index  \\\n",
       "0           0                  0               0            0           0   \n",
       "\n",
       "   Completeness  \n",
       "0             0  "
      ]
     },
     "metadata": {},
     "output_type": "display_data"
    }
   ],
   "source": [
    "dbscan = create_model('dbscan')"
   ]
  },
  {
   "cell_type": "code",
   "execution_count": 15,
   "id": "2a516f05",
   "metadata": {},
   "outputs": [
    {
     "data": {
      "application/vnd.jupyter.widget-view+json": {
       "model_id": "2c6d7dc418a64b24b87a475ec62c9181",
       "version_major": 2,
       "version_minor": 0
      },
      "text/plain": [
       "interactive(children=(ToggleButtons(description='Plot Type:', icons=('',), options=(('Cluster PCA Plot (2d)', …"
      ]
     },
     "metadata": {},
     "output_type": "display_data"
    }
   ],
   "source": [
    "evaluate_model(dbscan)"
   ]
  },
  {
   "cell_type": "markdown",
   "id": "4c5e463f",
   "metadata": {},
   "source": [
    "# saving the clustering model"
   ]
  },
  {
   "cell_type": "code",
   "execution_count": 16,
   "id": "b149c4af",
   "metadata": {},
   "outputs": [
    {
     "name": "stdout",
     "output_type": "stream",
     "text": [
      "Transformation Pipeline and Model Successfully Saved\n"
     ]
    },
    {
     "data": {
      "text/plain": [
       "(Pipeline(memory=None,\n",
       "          steps=[('dtypes',\n",
       "                  DataTypes_Auto_infer(categorical_features=[],\n",
       "                                       display_types=True, features_todrop=[],\n",
       "                                       id_columns=[], ml_usecase='regression',\n",
       "                                       numerical_features=[],\n",
       "                                       target='UNSUPERVISED_DUMMY_TARGET',\n",
       "                                       time_features=[])),\n",
       "                 ('imputer',\n",
       "                  Simple_Imputer(categorical_strategy='most frequent',\n",
       "                                 fill_value_categorical=None,\n",
       "                                 fill_value_numerical=None...\n",
       "                 ('fix_perfect', 'passthrough'),\n",
       "                 ('clean_names', Clean_Colum_Names()),\n",
       "                 ('feature_select', 'passthrough'), ('fix_multi', 'passthrough'),\n",
       "                 ('dfs', 'passthrough'), ('pca', 'passthrough'),\n",
       "                 ['trained_model',\n",
       "                  KMeans(algorithm='auto', copy_x=True, init='k-means++',\n",
       "                         max_iter=300, n_clusters=4, n_init=10, n_jobs=-1,\n",
       "                         precompute_distances='deprecated', random_state=1956,\n",
       "                         tol=0.0001, verbose=0)]],\n",
       "          verbose=False),\n",
       " 'jew_cluster_kmeans_model.pkl')"
      ]
     },
     "execution_count": 16,
     "metadata": {},
     "output_type": "execute_result"
    }
   ],
   "source": [
    "save_model(kmeans, 'jew_cluster_kmeans_model')"
   ]
  },
  {
   "cell_type": "markdown",
   "id": "89e7a6be",
   "metadata": {},
   "source": [
    "# loading the saved clustering model"
   ]
  },
  {
   "cell_type": "code",
   "execution_count": 17,
   "id": "ec5322db",
   "metadata": {},
   "outputs": [
    {
     "name": "stdout",
     "output_type": "stream",
     "text": [
      "Transformation Pipeline and Model Successfully Loaded\n"
     ]
    }
   ],
   "source": [
    "saved_kmeans = load_model('jew_cluster_kmeans_model')"
   ]
  },
  {
   "cell_type": "markdown",
   "id": "0914dd9c",
   "metadata": {},
   "source": [
    "# predicting the clusters on new data"
   ]
  },
  {
   "cell_type": "code",
   "execution_count": 18,
   "id": "f29125a1",
   "metadata": {},
   "outputs": [
    {
     "name": "stdout",
     "output_type": "stream",
     "text": [
      "     Age  Income  SpendingScore       Savings    Cluster\n",
      "480   65   71229       0.787890   9024.337461  Cluster 0\n",
      "481   86   23400       0.278036  15215.281264  Cluster 1\n",
      "482   32  108417       0.287371  16696.398659  Cluster 3\n",
      "483   84   24105       0.271809  16524.902538  Cluster 1\n",
      "484   84   30481       0.397023  16837.205965  Cluster 1\n",
      "485   90   22782       0.356307  15924.071708  Cluster 1\n",
      "486   91   28165       0.303693  17460.179350  Cluster 1\n",
      "487   26  123005       0.984526   4371.234733  Cluster 2\n",
      "488   92   18724       0.327862  15341.381110  Cluster 1\n",
      "489   97   27271       0.283923  14928.165597  Cluster 1\n",
      "490   84   36463       0.353621  16563.372591  Cluster 1\n",
      "491   58   70369       0.904520   7461.567503  Cluster 0\n",
      "492   61   74282       0.692236   7286.754751  Cluster 0\n",
      "493   92   36032       0.336968  17348.599881  Cluster 1\n",
      "494   87   29909       0.342152  18142.232747  Cluster 1\n",
      "495   66   77052       0.707262   6296.417311  Cluster 0\n",
      "496   22  132948       0.889800   2839.786357  Cluster 2\n",
      "497   91   30756       0.303698  15492.004711  Cluster 1\n",
      "498   30   98030       0.411112  16316.842905  Cluster 3\n",
      "499   25  128625       0.816739   4914.117127  Cluster 2\n",
      "500   28  101206       0.387441  14936.775389  Cluster 3\n",
      "501   93   19934       0.203140  17969.693769  Cluster 1\n",
      "502   90   35297       0.355149  16091.401954  Cluster 1\n",
      "503   91   20681       0.354679  18401.088445  Cluster 1\n",
      "504   89   30267       0.289310  14386.351880  Cluster 1\n"
     ]
    }
   ],
   "source": [
    "jew_cluster_prediction = predict_model(model = saved_kmeans, data = unseen_data)\n",
    "print(jew_cluster_prediction)"
   ]
  },
  {
   "cell_type": "code",
   "execution_count": 19,
   "id": "f4de4da8",
   "metadata": {},
   "outputs": [],
   "source": [
    "jew_cluster_prediction.to_csv(\"jewellery_clustering_results_unseen_data\")"
   ]
  },
  {
   "cell_type": "code",
   "execution_count": null,
   "id": "6eea7884",
   "metadata": {},
   "outputs": [],
   "source": []
  }
 ],
 "metadata": {
  "kernelspec": {
   "display_name": "Python 3 (ipykernel)",
   "language": "python",
   "name": "python3"
  },
  "language_info": {
   "codemirror_mode": {
    "name": "ipython",
    "version": 3
   },
   "file_extension": ".py",
   "mimetype": "text/x-python",
   "name": "python",
   "nbconvert_exporter": "python",
   "pygments_lexer": "ipython3",
   "version": "3.8.12"
  }
 },
 "nbformat": 4,
 "nbformat_minor": 5
}
